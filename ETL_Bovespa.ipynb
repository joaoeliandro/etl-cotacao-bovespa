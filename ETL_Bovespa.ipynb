{
  "nbformat": 4,
  "nbformat_minor": 0,
  "metadata": {
    "colab": {
      "provenance": [],
      "authorship_tag": "ABX9TyMC2ljAFgmoaqGLTtGZ3uIX",
      "include_colab_link": true
    },
    "kernelspec": {
      "name": "python3",
      "display_name": "Python 3"
    },
    "language_info": {
      "name": "python"
    }
  },
  "cells": [
    {
      "cell_type": "markdown",
      "metadata": {
        "id": "view-in-github",
        "colab_type": "text"
      },
      "source": [
        "<a href=\"https://colab.research.google.com/github/joaoeliandro/etl-cotacao-bovespa/blob/main/ETL_Bovespa.ipynb\" target=\"_parent\"><img src=\"https://colab.research.google.com/assets/colab-badge.svg\" alt=\"Open In Colab\"/></a>"
      ]
    },
    {
      "cell_type": "code",
      "execution_count": 1,
      "metadata": {
        "id": "_b1n-42B3-X3"
      },
      "outputs": [],
      "source": [
        "import pandas as pd"
      ]
    },
    {
      "cell_type": "code",
      "source": [
        "def read_file(path, filename, year_date, type_file):\n",
        "  _file = f'{path}{filename}{year_date}.{type_file}' \n",
        "\n",
        "  # Mapear colunas\n",
        "  colspecs = [(2,10),\n",
        "              (10,12),\n",
        "              (12,24),\n",
        "              (27,39),\n",
        "              (56,69),\n",
        "              (69,82),\n",
        "              (82,95),\n",
        "              (108,121),\n",
        "              (152,170),\n",
        "              (170,188)\n",
        "  ]\n",
        "\n",
        "  names = ['data_pregao', \n",
        "          'cod_bdi', \n",
        "          'sigla_acao', \n",
        "          'nome_acao', \n",
        "          'preco_abertura', \n",
        "          'preco_max', \n",
        "          'preco_min',\n",
        "          'preco_fechamento',\n",
        "          'qtd_negocios',\n",
        "          'volume_negocios']\n",
        "\n",
        "  df = pd.read_fwf(_file, colspecs=colspecs, names=names, skiprows=1)\n",
        "  \n",
        "  return df"
      ],
      "metadata": {
        "id": "j2qUhvQd4Jt6"
      },
      "execution_count": 7,
      "outputs": []
    },
    {
      "cell_type": "code",
      "source": [
        "# Filtrar ações\n",
        "def filter_stocks(df):\n",
        "  df = df [df['cod_bdi']==2]\n",
        "  df = df.drop(['cod_bdi'], 1)\n",
        "  \n",
        "  return df"
      ],
      "metadata": {
        "id": "l6KL_1HrTY5b"
      },
      "execution_count": 8,
      "outputs": []
    },
    {
      "cell_type": "code",
      "source": [
        "# Ajuste campo de data\n",
        "def parse_date(df):\n",
        "  df['data_pregao'] = pd.to_datetime(df['data_pregao'], format='%Y%m%d')\n",
        "  \n",
        "  return df"
      ],
      "metadata": {
        "id": "v4EXj509UBkh"
      },
      "execution_count": 9,
      "outputs": []
    },
    {
      "cell_type": "code",
      "source": [
        "# Ajuste dos campos numéricos\n",
        "def parse_values(df):\n",
        "  df['preco_abertura'] = (df['preco_abertura']/100).astype(float)\n",
        "  df['preco_max'] = (df['preco_max']/100).astype(float)\n",
        "  df['preco_min'] = (df['preco_min']/100).astype(float)\n",
        "  df['preco_fechamento'] = (df['preco_fechamento']/100).astype(float)\n",
        "  \n",
        "  return df"
      ],
      "metadata": {
        "id": "thumKT-ZUWHj"
      },
      "execution_count": 10,
      "outputs": []
    },
    {
      "cell_type": "code",
      "source": [
        "# Junção dos arquivos\n",
        "def concat_files(path, filename, year_date, type_file, final_file):\n",
        "  for i, y in enumerate(year_date):\n",
        "    df = read_file(path, filename, y, type_file)\n",
        "    df = filter_stocks(df)\n",
        "    df = parse_date(df)\n",
        "    df = parse_values(df)\n",
        "\n",
        "    if i==0:\n",
        "      df_final = df\n",
        "    else:\n",
        "      df_final = pd.concat([df_final, df])\n",
        "  \n",
        "  df_final.to_csv(f'{path}//{final_file}', index=False)"
      ],
      "metadata": {
        "id": "2yJ2PYYfWjWR"
      },
      "execution_count": 12,
      "outputs": []
    },
    {
      "cell_type": "code",
      "source": [
        "# Execução do script de ETL\n",
        "\n",
        "year_date=['2021']\n",
        "\n",
        "path=f'/content/'\n",
        "\n",
        "filename='COTAHIST_A'\n",
        "\n",
        "type_file='TXT'\n",
        "\n",
        "final_file='all_bovespa.csv'\n",
        "\n",
        "concat_files(path, filename, year_date, type_file, final_file)"
      ],
      "metadata": {
        "colab": {
          "base_uri": "https://localhost:8080/"
        },
        "id": "VOImFM6lYD4Z",
        "outputId": "4f71ff04-e303-45c9-d257-59b216eca1c3"
      },
      "execution_count": 14,
      "outputs": [
        {
          "output_type": "stream",
          "name": "stderr",
          "text": [
            "<ipython-input-8-4fdc8973cf13>:4: FutureWarning: In a future version of pandas all arguments of DataFrame.drop except for the argument 'labels' will be keyword-only\n",
            "  df = df.drop(['cod_bdi'], 1)\n"
          ]
        }
      ]
    }
  ]
}